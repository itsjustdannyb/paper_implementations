{
 "cells": [
  {
   "cell_type": "markdown",
   "id": "131d31a8",
   "metadata": {},
   "source": [
    "omo mehn, NeRF will not choke in Jesus name"
   ]
  },
  {
   "cell_type": "markdown",
   "id": "a66a7cd7",
   "metadata": {},
   "source": [
    "## Neural Radiance Fields\n",
    "\n",
    "NeRF website: https://www.matthewtancik.com/nerf\n",
    "\n",
    "Explaining terms i don't get:\n"
   ]
  },
  {
   "cell_type": "code",
   "execution_count": null,
   "id": "6242bc49",
   "metadata": {},
   "outputs": [],
   "source": []
  }
 ],
 "metadata": {
  "kernelspec": {
   "display_name": "Python 3",
   "language": "python",
   "name": "python3"
  },
  "language_info": {
   "codemirror_mode": {
    "name": "ipython",
    "version": 3
   },
   "file_extension": ".py",
   "mimetype": "text/x-python",
   "name": "python",
   "nbconvert_exporter": "python",
   "pygments_lexer": "ipython3",
   "version": "3.13.5"
  }
 },
 "nbformat": 4,
 "nbformat_minor": 5
}

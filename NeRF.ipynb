{
 "cells": [
  {
   "cell_type": "markdown",
   "id": "131d31a8",
   "metadata": {},
   "source": [
    "omo mehn, NeRF will not choke in Jesus name"
   ]
  },
  {
   "cell_type": "markdown",
   "id": "a66a7cd7",
   "metadata": {},
   "source": [
    "## Neural Radiance Fields\n",
    "Neural Radiance Fields are a way of storing a 3D scene within a neural network. This way of storing and representing a scene is often called an implicit representation, since the scene parameters are fully represented by the underlying Multi-Layer Perceptron (MLP).\n",
    "\n",
    "Furthermore, it allows us to store large scenes with a smaller memory footprint than explicit representation, since we merely need to store the weights of our neural network compared to voxel grids, which increase in memory size by a cubic term.\n",
    "\n",
    "![alt text](img/nerf_pipeline.png)\n",
    "\n",
    "\n",
    "NeRF website: https://www.matthewtancik.com/nerf\n",
    "\n",
    "Explaining terms i don't get:\n"
   ]
  },
  {
   "cell_type": "code",
   "execution_count": null,
   "id": "e758a7ce",
   "metadata": {},
   "outputs": [],
   "source": []
  },
  {
   "cell_type": "code",
   "execution_count": 2,
   "id": "1fdc0cd2",
   "metadata": {},
   "outputs": [],
   "source": [
    "import os\n",
    "from pathlib import Path"
   ]
  },
  {
   "cell_type": "markdown",
   "id": "da0bb367",
   "metadata": {},
   "source": [
    "### Dataset"
   ]
  },
  {
   "cell_type": "code",
   "execution_count": 6,
   "id": "fd27b673",
   "metadata": {},
   "outputs": [
    {
     "data": {
      "text/plain": [
       "['.DS_Store',\n",
       " 'test',\n",
       " 'train',\n",
       " 'transforms_test.json',\n",
       " 'transforms_train.json',\n",
       " 'transforms_val.json',\n",
       " 'val']"
      ]
     },
     "execution_count": 6,
     "metadata": {},
     "output_type": "execute_result"
    }
   ],
   "source": [
    "data_path = Path(r\"C:\\Users\\bamilosin\\Documents\\dataset\\3d reconstruction\\nerf_example_data\\nerf_synthetic\\lego\")\n",
    "os.listdir(data_path)"
   ]
  },
  {
   "cell_type": "code",
   "execution_count": 7,
   "id": "ddb93aa4",
   "metadata": {},
   "outputs": [],
   "source": [
    "train_json = data_path / 'transforms_train.json'"
   ]
  },
  {
   "cell_type": "code",
   "execution_count": null,
   "id": "3e4c79a9",
   "metadata": {},
   "outputs": [],
   "source": []
  }
 ],
 "metadata": {
  "kernelspec": {
   "display_name": "Python 3",
   "language": "python",
   "name": "python3"
  },
  "language_info": {
   "codemirror_mode": {
    "name": "ipython",
    "version": 3
   },
   "file_extension": ".py",
   "mimetype": "text/x-python",
   "name": "python",
   "nbconvert_exporter": "python",
   "pygments_lexer": "ipython3",
   "version": "3.13.5"
  }
 },
 "nbformat": 4,
 "nbformat_minor": 5
}
